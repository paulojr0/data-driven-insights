{
  "nbformat": 4,
  "nbformat_minor": 0,
  "metadata": {
    "colab": {
      "provenance": [],
      "mount_file_id": "1u6vdYhm6ih8IheuyLIcqt5vRCmkn2I_I",
      "authorship_tag": "ABX9TyN+R2cdeFqZRwwCU6Za51Dv",
      "include_colab_link": true
    },
    "kernelspec": {
      "name": "python3",
      "display_name": "Python 3"
    },
    "language_info": {
      "name": "python"
    }
  },
  "cells": [
    {
      "cell_type": "markdown",
      "metadata": {
        "id": "view-in-github",
        "colab_type": "text"
      },
      "source": [
        "<a href=\"https://colab.research.google.com/github/paulojr0/data-driven-insights/blob/main/data_driven_insights.ipynb\" target=\"_parent\"><img src=\"https://colab.research.google.com/assets/colab-badge.svg\" alt=\"Open In Colab\"/></a>"
      ]
    },
    {
      "cell_type": "markdown",
      "source": [
        "1. Importação de Bibliotecas e arquivo"
      ],
      "metadata": {
        "id": "5-S6uU5QunEi"
      }
    },
    {
      "cell_type": "code",
      "execution_count": 3,
      "metadata": {
        "colab": {
          "base_uri": "https://localhost:8080/"
        },
        "id": "E_igx2WirD_K",
        "outputId": "b7d77cf4-0ada-4a73-c137-0241948ba309"
      },
      "outputs": [
        {
          "output_type": "stream",
          "name": "stdout",
          "text": [
            "                  CITY STATE  CAPITAL  IBGE_RES_POP  IBGE_RES_POP_BRAS  \\\n",
            "0      Abadia De Goiás    GO        0        6876.0             6876.0   \n",
            "1  Abadia Dos Dourados    MG        0        6704.0             6704.0   \n",
            "2            Abadiânia    GO        0       15757.0            15609.0   \n",
            "3               Abaeté    MG        0       22690.0            22690.0   \n",
            "4           Abaetetuba    PA        0      141100.0           141040.0   \n",
            "\n",
            "   IBGE_RES_POP_ESTR  IBGE_DU  IBGE_DU_URBAN  IBGE_DU_RURAL  IBGE_POP  ...  \\\n",
            "0                0.0   2137.0         1546.0          591.0    5300.0  ...   \n",
            "1                0.0   2328.0         1481.0          847.0    4154.0  ...   \n",
            "2              148.0   4655.0         3233.0         1422.0   10656.0  ...   \n",
            "3                0.0   7694.0         6667.0         1027.0   18464.0  ...   \n",
            "4               60.0  31061.0        19057.0        12004.0   82956.0  ...   \n",
            "\n",
            "   Pu_Bank   Pr_Assets    Pu_Assets    Cars  Motorcycles  Wheeled_tractor  \\\n",
            "0      NaN         NaN          NaN  2158.0       1246.0              0.0   \n",
            "1      NaN         NaN          NaN  2227.0       1142.0              0.0   \n",
            "2      1.0  33724584.0   67091904.0  2838.0       1426.0              0.0   \n",
            "3      2.0  44974716.0  371922572.0  6928.0       2953.0              0.0   \n",
            "4      4.0  76181384.0  800078483.0  5277.0      25661.0              0.0   \n",
            "\n",
            "   UBER  MAC  WAL-MART  POST_OFFICES  \n",
            "0   NaN  NaN       NaN           1.0  \n",
            "1   NaN  NaN       NaN           1.0  \n",
            "2   NaN  NaN       NaN           3.0  \n",
            "3   NaN  NaN       NaN           4.0  \n",
            "4   NaN  NaN       NaN           2.0  \n",
            "\n",
            "[5 rows x 81 columns]\n",
            "(5573, 81)\n",
            "Index(['CITY', 'STATE', 'CAPITAL', 'IBGE_RES_POP', 'IBGE_RES_POP_BRAS',\n",
            "       'IBGE_RES_POP_ESTR', 'IBGE_DU', 'IBGE_DU_URBAN', 'IBGE_DU_RURAL',\n",
            "       'IBGE_POP', 'IBGE_1', 'IBGE_1-4', 'IBGE_5-9', 'IBGE_10-14',\n",
            "       'IBGE_15-59', 'IBGE_60+', 'IBGE_PLANTED_AREA', 'IBGE_CROP_PRODUCTION_$',\n",
            "       'IDHM Ranking 2010', 'IDHM', 'IDHM_Renda', 'IDHM_Longevidade',\n",
            "       'IDHM_Educacao', 'LONG', 'LAT', 'ALT', 'PAY_TV', 'FIXED_PHONES', 'AREA',\n",
            "       'REGIAO_TUR', 'CATEGORIA_TUR', 'ESTIMATED_POP', 'RURAL_URBAN',\n",
            "       'GVA_AGROPEC', 'GVA_INDUSTRY', 'GVA_SERVICES', 'GVA_PUBLIC',\n",
            "       ' GVA_TOTAL ', 'TAXES', 'GDP', 'POP_GDP', 'GDP_CAPITA', 'GVA_MAIN',\n",
            "       'MUN_EXPENDIT', 'COMP_TOT', 'COMP_A', 'COMP_B', 'COMP_C', 'COMP_D',\n",
            "       'COMP_E', 'COMP_F', 'COMP_G', 'COMP_H', 'COMP_I', 'COMP_J', 'COMP_K',\n",
            "       'COMP_L', 'COMP_M', 'COMP_N', 'COMP_O', 'COMP_P', 'COMP_Q', 'COMP_R',\n",
            "       'COMP_S', 'COMP_T', 'COMP_U', 'HOTELS', 'BEDS', 'Pr_Agencies',\n",
            "       'Pu_Agencies', 'Pr_Bank', 'Pu_Bank', 'Pr_Assets', 'Pu_Assets', 'Cars',\n",
            "       'Motorcycles', 'Wheeled_tractor', 'UBER', 'MAC', 'WAL-MART',\n",
            "       'POST_OFFICES'],\n",
            "      dtype='object')\n",
            "CITY                  object\n",
            "STATE                 object\n",
            "CAPITAL                int64\n",
            "IBGE_RES_POP         float64\n",
            "IBGE_RES_POP_BRAS    float64\n",
            "                      ...   \n",
            "Wheeled_tractor      float64\n",
            "UBER                 float64\n",
            "MAC                  float64\n",
            "WAL-MART             float64\n",
            "POST_OFFICES         float64\n",
            "Length: 81, dtype: object\n"
          ]
        }
      ],
      "source": [
        "import pandas as pd\n",
        "import numpy as np\n",
        "import matplotlib.pyplot as plt\n",
        "\n",
        "df = pd.read_csv(\"/content/drive/MyDrive/BRAZIL_CITIES.csv\", sep=';')\n",
        "print(df.head())\n",
        "print(df.shape)\n",
        "print(df.columns)\n",
        "print(df.dtypes)"
      ]
    },
    {
      "cell_type": "markdown",
      "source": [
        "2. Listas, Dicionários e Tuplas"
      ],
      "metadata": {
        "id": "Z_uMp85pr5as"
      }
    },
    {
      "cell_type": "code",
      "source": [
        "# Lista\n",
        "regiao_turismo = list(df['REGIAO_TUR'].dropna())\n",
        "for regiao in regiao_turismo[:10]:\n",
        "    print(regiao)\n",
        "\n",
        "# Dicionário\n",
        "dicionario = dict(zip(df['CITY'][:5], df['STATE'][:5]))\n",
        "print(dicionario)\n",
        "\n",
        "# Tupla\n",
        "linha0 = df.iloc[2631]\n",
        "minha_tupla = (linha0['CITY'], linha0['RURAL_URBAN'],linha0['IDHM'])\n",
        "print(minha_tupla)"
      ],
      "metadata": {
        "colab": {
          "base_uri": "https://localhost:8080/"
        },
        "id": "VTeZaWxZr9Mi",
        "outputId": "b2053645-e830-4182-d2c9-d6077ed8c7da"
      },
      "execution_count": null,
      "outputs": [
        {
          "output_type": "stream",
          "name": "stdout",
          "text": [
            "Caminhos Do Cerrado\n",
            "Região Turística Do Ouro E Cristais\n",
            "Lago De Três Marias\n",
            "Araguaia-Tocantins\n",
            "Chapada Diamantina\n",
            "Vale Do Contestado\n",
            "Amazônia Atlântica\n",
            "Grande Oeste\n",
            "Montanhas E Fé\n",
            "Costa Náutica Coroa Do Avião\n",
            "{'Abadia De Goiás': 'GO', 'Abadia Dos Dourados': 'MG', 'Abadiânia': 'GO', 'Abaeté': 'MG', 'Abaetetuba': 'PA'}\n",
            "('Juiz De Fora', 'Urbano', np.float64(0.778))\n"
          ]
        }
      ]
    },
    {
      "cell_type": "markdown",
      "source": [
        "3. Estruturas Condicionais e Laços"
      ],
      "metadata": {
        "id": "IDvhN9iNsNdS"
      }
    },
    {
      "cell_type": "markdown",
      "source": [
        "Para a condicional if, usei a linha 2631 para identificar dados da minha cidade Juiz de Fora-MG. Então o comando me traz a população da cidade, e a classificação da cidade (grande, média ou pequena), criada a partir de informações do IBGE que considera cidade grande acima de 500 mil habitantes, média entre 100 mil a 499 mil e abaixo disso, pequena.\n",
        "\n",
        "No for, calculei a média de população idosa, ou seja, com mais de 60 anos para as células com valores válidos, que são verificador com a função dropna() do pandas.\n",
        "\n",
        "E no While trouxe um top 10 das maiores cidades do Brasil."
      ],
      "metadata": {
        "id": "DnbZ5q2E77n7"
      }
    },
    {
      "cell_type": "code",
      "source": [
        "# Condicional\n",
        "coluna_numerica = 'IBGE_RES_POP'\n",
        "primeiro_valor = df[coluna_numerica][2631]\n",
        "print(\"A poupulação de Juiz de Fora é: \",primeiro_valor)\n",
        "if primeiro_valor > 500000:\n",
        "    print(\"Cidade grande!\")\n",
        "elif primeiro_valor > 100000:\n",
        "    print(\"Cidade média!\")\n",
        "else:\n",
        "    print(\"Cidade pequena!\")\n",
        "\n",
        "# For\n",
        "soma = 0\n",
        "lista = list(df['IBGE_60+'].dropna())\n",
        "for n in lista:\n",
        "    soma += n\n",
        "media = soma/len(lista)\n",
        "print(\"A média de população 60+ é: \",media)\n",
        "\n",
        "# While\n",
        "df_ordenado = df.sort_values(by='IBGE_RES_POP', ascending=False).reset_index(drop=True)\n",
        "i = 0\n",
        "while i < 10:\n",
        "    cidade = df_ordenado.iloc[i]['CITY']\n",
        "    populacao = df_ordenado.iloc[i]['IBGE_RES_POP']\n",
        "    print(f\"{i+1}º lugar: {cidade} - População: {populacao}\")\n",
        "    i += 1"
      ],
      "metadata": {
        "colab": {
          "base_uri": "https://localhost:8080/"
        },
        "id": "SPlL2xKNsOJL",
        "outputId": "310ec05c-9e3d-4207-dd5a-2796baf6969a"
      },
      "execution_count": 6,
      "outputs": [
        {
          "output_type": "stream",
          "name": "stdout",
          "text": [
            "A poupulação de Juiz de Fora é:  516247.0\n",
            "Cidade grande!\n",
            "A média de população 60+ é:  3004.238993710692\n",
            "1º lugar: São Paulo - População: 11253503.0\n",
            "2º lugar: Rio De Janeiro - População: 6320446.0\n",
            "3º lugar: Salvador - População: 2675656.0\n",
            "4º lugar: Brasília - População: 2570160.0\n",
            "5º lugar: Fortaleza - População: 2452185.0\n",
            "6º lugar: Belo Horizonte - População: 2375151.0\n",
            "7º lugar: Manaus - População: 1802014.0\n",
            "8º lugar: Curitiba - População: 1751907.0\n",
            "9º lugar: Recife - População: 1537704.0\n",
            "10º lugar: Porto Alegre - População: 1409351.0\n"
          ]
        }
      ]
    },
    {
      "cell_type": "markdown",
      "source": [
        "4. Operadores Aritméticos e Manipulação de Dados"
      ],
      "metadata": {
        "id": "iXuFJtjxsf8q"
      }
    },
    {
      "cell_type": "markdown",
      "source": [
        "Criei a coluna df['perc_carro'] para buscar identificar a porcentagem de carros existentes em cada cidade, a partir do total populacional da cidade. O calculo é feito com df['Cars']/df['IBGE_RES_POP']."
      ],
      "metadata": {
        "id": "BlP5RpYZ7aWr"
      }
    },
    {
      "cell_type": "code",
      "source": [
        "#percentual do número de carros na cidade/total populacional\n",
        "df['perc_carro'] = df['Cars']/df['IBGE_RES_POP']\n",
        "print(df['perc_carro'])\n",
        "\n",
        "df['perc_carro'] = (df['Cars']/df['IBGE_RES_POP']) * 100\n",
        "print(df['perc_carro'].round(2))"
      ],
      "metadata": {
        "colab": {
          "base_uri": "https://localhost:8080/"
        },
        "id": "DkECuVGMsgX6",
        "outputId": "17587f14-7f5e-43e0-a359-1c5e87f95415"
      },
      "execution_count": null,
      "outputs": [
        {
          "output_type": "stream",
          "name": "stdout",
          "text": [
            "0       0.313845\n",
            "1       0.332190\n",
            "2       0.180110\n",
            "3       0.305333\n",
            "4       0.037399\n",
            "          ...   \n",
            "5568    0.046666\n",
            "5569    0.041928\n",
            "5570    0.385867\n",
            "5571    0.034381\n",
            "5572    0.360080\n",
            "Name: perc_carro, Length: 5573, dtype: float64\n",
            "0       31.38\n",
            "1       33.22\n",
            "2       18.01\n",
            "3       30.53\n",
            "4        3.74\n",
            "        ...  \n",
            "5568     4.67\n",
            "5569     4.19\n",
            "5570    38.59\n",
            "5571     3.44\n",
            "5572    36.01\n",
            "Name: perc_carro, Length: 5573, dtype: float64\n"
          ]
        }
      ]
    },
    {
      "cell_type": "markdown",
      "source": [
        "5. NumPy e Arrays Numéricos"
      ],
      "metadata": {
        "id": "OsrzPk-oskC6"
      }
    },
    {
      "cell_type": "code",
      "source": [
        "array = np.array(df['IBGE_15-59'].dropna())\n",
        "\n",
        "array_somado = array + 10\n",
        "array_quadrado = array ** 2\n",
        "\n",
        "print(array[:5])\n",
        "print(array_somado[:5])\n",
        "print(array_quadrado[:5])\n",
        "\n",
        "print(\"Soma dos elementos:\", array.sum().round(2))\n",
        "print(\"Média dos elementos:\", array.mean().round(2))\n"
      ],
      "metadata": {
        "colab": {
          "base_uri": "https://localhost:8080/"
        },
        "id": "Vxa6RK14sl1a",
        "outputId": "63383e9e-e609-44a0-8c08-391f1f06db91"
      },
      "execution_count": null,
      "outputs": [
        {
          "output_type": "stream",
          "name": "stdout",
          "text": [
            "[ 3542.  2709.  6896. 11979. 53516.]\n",
            "[ 3552.  2719.  6906. 11989. 53526.]\n",
            "[1.25457640e+07 7.33868100e+06 4.75548160e+07 1.43496441e+08\n",
            " 2.86396226e+09]\n",
            "Soma dos elementos: 101349049.0\n",
            "Média dos elementos: 18211.87\n"
          ]
        }
      ]
    },
    {
      "cell_type": "markdown",
      "source": [
        "6. Visualização de Dados"
      ],
      "metadata": {
        "id": "q9pQF3ujsqhK"
      }
    },
    {
      "cell_type": "markdown",
      "source": [
        "Para a criação do gráfico de linha, foi necessário criar um dataframe baseado em projeção a partir do meu dataframe de 2010. Assim, foi criado a coluna População_Projeção com a projeção populacional no Brasil até 2025, que se dá através da taxa de subida de 0,52% ao ano.\n",
        "\n",
        "No gráfico de barra busquei filtrar somente o estado de Minas Gerais para trazer as cidades que mais possuem população estrangeira. E me surpreendeu que a cidade a qual moro, Juiz de Fora, só perde para Belo Horizonte."
      ],
      "metadata": {
        "id": "qcm_Fbhb6FVm"
      }
    },
    {
      "cell_type": "code",
      "source": [
        "# Gráfico de linha\n",
        "anos = list(range(2010, 2026))\n",
        "df_proj = pd.DataFrame({'Ano': anos})\n",
        "pop_atual = df['IBGE_RES_POP'].sum()\n",
        "taxa = 0.0052 #basedo no IBGE que disse que a popução cresce 0,52% ao ano\n",
        "pop_projecao = []\n",
        "for i in range(len(df_proj)):\n",
        "    proj = pop_atual * ((1 + taxa) ** i)\n",
        "    pop_projecao.append(proj)\n",
        "\n",
        "df_proj['População_Projeção'] = pop_projecao\n",
        "pd.options.display.float_format = '{:,.0f}'.format\n",
        "print(df_proj.round(2))\n",
        "\n",
        "df_proj.plot(x='Ano', y='População_Projeção', kind='line')\n",
        "plt.title('Projeção da População Brasileira (2010–2025)')\n",
        "plt.xlabel('Ano')\n",
        "plt.ylabel('População Projetada')\n",
        "plt.tight_layout()\n",
        "plt.show()\n",
        "\n",
        "# Gráfico de Barras\n",
        "df_mg =  df[df['STATE'] == 'MG']\n",
        "df_mg.groupby('CITY')['IBGE_RES_POP_ESTR'].sum().sort_values(ascending=False).head(10).plot(kind='bar', figsize=(12,8))\n",
        "plt.title('Total por categoria')\n",
        "plt.xlabel('CITY')\n",
        "plt.ylabel('IBGE_RES_POP_ESTR')\n",
        "plt.show()\n",
        "\n",
        "# Gráfico de dispersão\n",
        "plt.scatter(df['Motorcycles'], df['IBGE_DU_RURAL'])\n",
        "plt.title('Dispersão')\n",
        "plt.xlabel('Motorcycles')\n",
        "plt.ylabel('IBGE_DU_RURAL')\n",
        "plt.show()"
      ],
      "metadata": {
        "colab": {
          "base_uri": "https://localhost:8080/",
          "height": 782
        },
        "id": "R4Te26uVtDQL",
        "outputId": "4bac1500-4db3-4b13-cd8c-61914e504884"
      },
      "execution_count": null,
      "outputs": [
        {
          "output_type": "stream",
          "name": "stdout",
          "text": [
            "     Ano  População_Projeção\n",
            "0   2010         190,755,799\n",
            "1   2011         191,747,729\n",
            "2   2012         192,744,817\n",
            "3   2013         193,747,090\n",
            "4   2014         194,754,575\n",
            "5   2015         195,767,299\n",
            "6   2016         196,785,289\n",
            "7   2017         197,808,573\n",
            "8   2018         198,837,177\n",
            "9   2019         199,871,130\n",
            "10  2020         200,910,460\n",
            "11  2021         201,955,195\n",
            "12  2022         203,005,362\n",
            "13  2023         204,060,990\n",
            "14  2024         205,122,107\n",
            "15  2025         206,188,742\n"
          ]
        },
        {
          "output_type": "display_data",
          "data": {
            "text/plain": [
              "<Figure size 640x480 with 1 Axes>"
            ],
            "image/png": "[encoded data removed]"
          },
          "metadata": {}
        }
      ]
    },
    {
      "cell_type": "markdown",
      "source": [
        "Este projeto teve como objetivo explorar e analisar uma base de dados com informações detalhadas sobre os municípios do Brasil baixada diretamente do Kaggle (https://www.kaggle.com/datasets/crisparada/brazilian-cities). A base foi importada em formato CSV (BRAZIL_CITIES.csv), contendo 5570 linhas (com informações de todas as cidades no Brasil) e 81 colunas.\n",
        "\n",
        "Com a análise feita, foi possível identificar principais regiões de turismo no Brasil, média populacional de pessoas idosas, maiores cidades do Brasil em número de população, além de gráficos como projeção ano a ano da população no país, cidades com maior população estrangeira em MG e uma dispersão entre número de motocicletas e a população rural.\n",
        "\n",
        "Através da base, é possível responder importantes perguntas mostrando por exemplo regiões com maiores IDH, realizar a correlação entre IDH e renda média das cidades. Também é possível responder perguntas em relação a economia e infraestrutura, como por exemplo número de carros por habitante, cidades com maiores PIB ou setores de economia mais predominante por região.\n",
        "\n"
      ],
      "metadata": {
        "id": "5faB6jHs-CLb"
      }
    }
  ]
}